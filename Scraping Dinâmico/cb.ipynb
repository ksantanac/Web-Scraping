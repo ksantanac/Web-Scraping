{
 "cells": [
  {
   "cell_type": "code",
   "execution_count": 6,
   "metadata": {},
   "outputs": [],
   "source": [
    "from bs4 import BeautifulSoup\n",
    "from selenium import webdriver\n",
    "from selenium.webdriver.chrome.service import Service as ChromeService\n",
    "from webdriver_manager.chrome import ChromeDriverManager\n",
    "from selenium import webdriver\n",
    "from selenium.webdriver.common.by import By\n",
    "from selenium.webdriver.support.ui import WebDriverWait\n",
    "from selenium.webdriver.support import expected_conditions as EC\n",
    "import time\n",
    "from selenium import webdriver\n",
    "from selenium.webdriver.common.by import By\n",
    "from selenium.webdriver.support.ui import WebDriverWait\n",
    "from selenium.webdriver.support import expected_conditions as EC\n",
    "import time\n",
    "# Define the URL to scrape\n",
    "url = \"https://www.gov.br/centraldebalancos/#/demonstracao-publicada/7646\"\n",
    "\n",
    "# Define headers to mimic a real browser\n",
    "headers = {'User-Agent': \"Mozilla/5.0 (Windows NT 10.0; Win64; x64) AppleWebKit/537.36 (KHTML, like Gecko) Chrome/123.0.0.0 Safari/537.36 OPR/109.0.0.0 (Edition std-1)\"}\n",
    "\n",
    "# Set up Chrome options for headless browsing\n",
    "# options = webdriver.ChromeOptions()\n",
    "# options.add_argument('--headless')\n",
    "\n",
    "# Initialize the Chrome driver\n",
    "driver = webdriver.Chrome(service=ChromeService(ChromeDriverManager().install()))\n",
    "\n",
    "try:\n",
    "    # Acessando a URL\n",
    "    driver.get('https://www.gov.br/centraldebalancos/#/demonstracoes/09658732000148/0/10/1')\n",
    "\n",
    "    # Esperando até que o elemento \"Balanço Patrimonial (BP)\" esteja presente\n",
    "    wait = WebDriverWait(driver, 20)  # Espera até 20 segundos\n",
    "    bp_element = wait.until(EC.presence_of_element_located((By.XPATH, '//strong[text()=\"Balanço Patrimonial (BP)\"]')))\n",
    "\n",
    "    # Verificando se o elemento está presente\n",
    "    if bp_element:\n",
    "        # Encontrando todos os botões que correspondem aos critérios\n",
    "        buttons_xpath = '//button[contains(@class, \"ui-button-secondary\") and span[text()=\"pdf\"]]'\n",
    "\n",
    "        # Clicando em todos os botões encontrados\n",
    "        while True:\n",
    "            try:\n",
    "                buttons = driver.find_elements(By.XPATH, buttons_xpath)\n",
    "                for button in buttons:\n",
    "                    button.click()\n",
    "                    time.sleep(1)  # Aguarde um segundo entre os cliques para evitar problemas de carregamento\n",
    "                break\n",
    "            except StaleElementReferenceException:\n",
    "                pass\n",
    "\n",
    "    # Aguarde um tempo para observar a ação antes de fechar\n",
    "    time.sleep(5)\n",
    "finally:\n",
    "    # Fechando o navegador\n",
    "    driver.quit()"
   ]
  }
 ],
 "metadata": {
  "kernelspec": {
   "display_name": "base",
   "language": "python",
   "name": "python3"
  },
  "language_info": {
   "codemirror_mode": {
    "name": "ipython",
    "version": 3
   },
   "file_extension": ".py",
   "mimetype": "text/x-python",
   "name": "python",
   "nbconvert_exporter": "python",
   "pygments_lexer": "ipython3",
   "version": "3.11.7"
  }
 },
 "nbformat": 4,
 "nbformat_minor": 2
}
