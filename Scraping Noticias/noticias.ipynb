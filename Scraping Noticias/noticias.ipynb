{
 "cells": [
  {
   "cell_type": "code",
   "execution_count": 1,
   "metadata": {},
   "outputs": [],
   "source": [
    "import requests\n",
    "from bs4 import BeautifulSoup\n",
    "import pandas as pd\n",
    "\n",
    "lista_noticias = []\n",
    "\n",
    "response = requests.get(\"https://g1.globo.com\")\n",
    "\n",
    "content = response.content\n",
    "\n",
    "site = BeautifulSoup(content, 'html.parser')\n",
    "\n",
    "# Formato Html organizado\n",
    "# print(site.prettify())\n",
    "\n",
    "# HTML da notícia\n",
    "noticias = site.findAll('div', attrs={'class' : 'feed-post-body'})\n",
    "\n",
    "for noticia in noticias:\n",
    "\n",
    "    # Título da noticia\n",
    "    titulo = noticia.find('a', attrs={'class' : 'feed-post-link gui-color-primary gui-color-hover'})\n",
    "    # print('Titulo da Noticia:')\n",
    "    # print(titulo.text)\n",
    "    #\n",
    "    # print()\n",
    "    # print('Link da Noticia')\n",
    "    # print(titulo['href'])\n",
    "    # print()\n",
    "\n",
    "    # Subtitulo de texto\n",
    "    subtitulo_text = noticia.find('div', attrs={'class' : 'feed-post-body-resumo'})\n",
    "\n",
    "    # Subtitulo de ul\n",
    "    subtitulo_ul = noticia.find('ul', attrs={'class': 'bstn-relateditems'})\n",
    "\n",
    "    if (subtitulo_text):\n",
    "        # print('Subtitulo da Noticia:')\n",
    "        # print(subtitulo_text)\n",
    "        # print()\n",
    "        lista_noticias.append([titulo.text, subtitulo_text.text, titulo['href']])\n",
    "\n",
    "    elif (subtitulo_ul):\n",
    "        # print('Subtitulo da Noticia:')\n",
    "        # print(subtitulo_ul.text)\n",
    "        # print()\n",
    "        lista_noticias.append([titulo.text, subtitulo_ul.text, titulo['href']])\n",
    "\n",
    "    else:\n",
    "        lista_noticias.append([titulo.text, '', titulo['href']])\n",
    "\n",
    "news = pd.DataFrame(lista_noticias, columns=['Titulo', 'Subtitulo', 'Link'])\n",
    "\n",
    "news.to_csv('noticias.csv', index=False)"
   ]
  }
 ],
 "metadata": {
  "kernelspec": {
   "display_name": "base",
   "language": "python",
   "name": "python3"
  },
  "language_info": {
   "codemirror_mode": {
    "name": "ipython",
    "version": 3
   },
   "file_extension": ".py",
   "mimetype": "text/x-python",
   "name": "python",
   "nbconvert_exporter": "python",
   "pygments_lexer": "ipython3",
   "version": "3.11.7"
  }
 },
 "nbformat": 4,
 "nbformat_minor": 2
}
