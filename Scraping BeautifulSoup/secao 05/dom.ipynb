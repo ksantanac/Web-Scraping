{
 "cells": [
  {
   "cell_type": "code",
   "execution_count": 1,
   "metadata": {},
   "outputs": [],
   "source": [
    "from bs4 import BeautifulSoup"
   ]
  },
  {
   "cell_type": "code",
   "execution_count": 2,
   "metadata": {},
   "outputs": [],
   "source": [
    "with open(r'C:\\Users\\anjos\\OneDrive\\Documentos\\Cursos Kaue\\Web Scraping\\sourcecode\\exemplo2.html') as file:\n",
    "    html = file.read()"
   ]
  },
  {
   "cell_type": "code",
   "execution_count": 3,
   "metadata": {},
   "outputs": [
    {
     "data": {
      "text/html": [
       "<!DOCTYPE html>\n",
       "<html lang=\"pt\">\n",
       "\n",
       "<head>\n",
       "    <meta charset=\"UTF-8\">\n",
       "    <meta name=\"viewport\" content=\"width=device-width, initial-scale=1.0\">\n",
       "    <title>Curso de Web Scrapping | Programador Aventureiro</title>\n",
       "    <link rel=\"icon\" href=\"logo.jpg\" type=\"image/jpg\">\n",
       "</head>\n",
       "\n",
       "<body>\n",
       "    <div class=\"container\" lang=\"pt\">\n",
       "        <div class=\"breadcrumb\" data-location=\"Receitas &gt; Bolos &gt; Bolo de Chocolate\">\n",
       "            <p><i>Localização: Receitas &gt; Bolos &gt; Bolo de Chocolate</i></p>\n",
       "        </div>\n",
       "\n",
       "        <h1 title=\"Receita de Bolo de Chocolate\"\n",
       "            style=\"color: #333;font-size: 30px;text-align: center;margin: 20px 0px;\">Receita de Bolo de Chocolate</h1>\n",
       "        <div class=\"info\" data-category=\"Bolos\" data-difficulty=\"Fácil\" style=\"margin-bottom: 20px;\">\n",
       "            <p style=\"font-size: 18px;\">Este delicioso bolo de chocolate é perfeito para qualquer ocasião. Prepare-se\n",
       "                para uma explosão de sabor!</p>\n",
       "            <p class=\"time\" data-prep-time=\"1 hora\" style=\"font-weight: bold;color: #27ae60;font-size: 18px;\">Tempo de\n",
       "                preparo: 1 hora</p>\n",
       "        </div>\n",
       "\n",
       "        <div id=\"rating\" class=\"rating\" data-rating=\"4.5\"\n",
       "            style=\"display: flex;justify-content: center;margin-bottom: 10px;\">\n",
       "            <span style=\"color: #f1c40f;font-size: 24px;margin-right: 5px;\">&#9733;</span>\n",
       "            <span style=\"color: #f1c40f;font-size: 24px;margin-right: 5px;\">&#9733;</span>\n",
       "            <span style=\"color: #f1c40f;font-size: 24px;margin-right: 5px;\">&#9733;</span>\n",
       "            <span style=\"color: #f1c40f;font-size: 24px;margin-right: 5px;\">&#9733;</span>\n",
       "            <span style=\"color: #f1c40f;font-size: 24px;margin-right: 5px;\">&#9734;</span>\n",
       "        </div>\n",
       "\n",
       "        <div class=\"categories\" style=\"margin-top: 20px;padding: 10px;border-radius: 5px;\">\n",
       "            <h2 style=\"font-weight: bold;\">Categorias Relacionadas:</h2>\n",
       "\n",
       "            <ul style=\"list-style-type: none;padding: 0;\">\n",
       "                <li data-category=\"Chocolate\" style=\"display: inline-block;margin-right: 10px;\">Chocolate</li>\n",
       "                <li data-category=\"Bolos\" style=\"display: inline-block;margin-right: 10px;\">Bolos</li>\n",
       "                <li data-category=\"Sobremesas\" style=\"display: inline-block;margin-right: 10px;\">Sobremesas</li>\n",
       "            </ul>\n",
       "        </div>\n",
       "\n",
       "        <div id=\"comments-list\" class=\"user-comments\"\n",
       "            style=\"margin-top: 20px;border-top: 1px solid #ccc;padding-top: 20px;\">\n",
       "            <h2 style=\"font-weight: bold;margin-bottom: 10px;\">Notas e Comentários dos Usuários:</h2>\n",
       "\n",
       "            <div class=\"comment first-comment\" data-user=\"João\" data-rating=\"5\">\n",
       "                <p><strong>João:</strong> Este bolo é incrível! Super fácil de fazer e fica delicioso.</p>\n",
       "            </div>\n",
       "\n",
       "            <div class=\"comment\" data-user=\"Ana\" data-rating=\"4\">\n",
       "                <p><strong>Ana:</strong> Gostei muito da receita, mas achei que ficou um pouco doce demais para o meu\n",
       "                    gosto.</p>\n",
       "            </div>\n",
       "\n",
       "            <div class=\"comment\" data-user=\"Carlos\" data-rating=\"4.5\">\n",
       "                <p><strong>Carlos:</strong> Ótima receita! Segui o passo a passo e deu tudo certo, o bolo ficou\n",
       "                    maravilhoso.</p>\n",
       "            </div>\n",
       "        </div>\n",
       "\n",
       "        <hr>\n",
       "\n",
       "        <div class=\"tips\" style=\"margin-top: 20px;\">\n",
       "            <h2 style=\"font-weight: bold;margin-bottom: 10px;\">Dicas:</h2>\n",
       "            <ul>\n",
       "                <li data-tip=\"Evite bater demais a massa para não ficar pesada\">Evite bater demais a massa para não\n",
       "                    ficar pesada</li>\n",
       "                <li data-tip=\"Use ingredientes em temperatura ambiente para melhorar a textura do bolo\">Use ingredientes\n",
       "                    em temperatura ambiente para melhorar a textura do bolo</li>\n",
       "                <li data-tip=\"Faça o teste do palito para verificar se o bolo está assado\">Faça o teste do palito para\n",
       "                    verificar se o bolo está assado</li>\n",
       "            </ul>\n",
       "        </div>\n",
       "\n",
       "        <hr>\n",
       "\n",
       "        <div class=\"related-recipes\">\n",
       "            <h2 style=\"font-weight: bold;\">Receitas Relacionadas:</h2>\n",
       "            <ul>\n",
       "                <li data-recipe=\"Bolo de Cenoura\">Bolo de Cenoura</li>\n",
       "                <li data-recipe=\"Brigadeiro\">Brigadeiro</li>\n",
       "                <li data-recipe=\"Mousse de Chocolate\">Mousse de Chocolate</li>\n",
       "            </ul>\n",
       "        </div>\n",
       "\n",
       "        <hr>\n",
       "\n",
       "        <div class=\"faq\" style=\"margin-top: 20px;\">\n",
       "            <h2 style=\"font-weight: bold;margin-bottom: 10px;\">Perguntas Frequentes:</h2>\n",
       "            <ul style=\"list-style-type: none;padding: 0;\">\n",
       "                <li id=\"faq1\" data-question=\"Posso substituir o óleo por manteiga?\" style=\"margin-bottom: 10px;\">Posso\n",
       "                    substituir o óleo por manteiga? <span>Sim</span></li>\n",
       "                <li id=\"faq2\" data-question=\"Essa receita é vegana?\" style=\"margin-bottom: 10px;\">Essa receita é vegana?\n",
       "                    <span>Não</span></li>\n",
       "                <li id=\"faq3\" data-question=\"Posso usar chocolate meio amargo em vez de chocolate ao leite?\"\n",
       "                    style=\"margin-bottom: 10px;\">Posso usar chocolate meio amargo em vez de chocolate ao leite?\n",
       "                    <span>Sim</span></li>\n",
       "                <li id=\"faq4\" data-question=\"Posso congelar o bolo depois de assado?\" style=\"margin-bottom: 10px;\">Posso\n",
       "                    congelar o bolo depois de assado? <span>Sim</span></li>\n",
       "            </ul>\n",
       "        </div>\n",
       "\n",
       "    </div>\n",
       "</body>\n",
       "\n",
       "</html>"
      ],
      "text/plain": [
       "<IPython.core.display.HTML object>"
      ]
     },
     "execution_count": 3,
     "metadata": {},
     "output_type": "execute_result"
    }
   ],
   "source": [
    "from IPython.display import HTML\n",
    "HTML(html)"
   ]
  },
  {
   "cell_type": "code",
   "execution_count": 4,
   "metadata": {},
   "outputs": [],
   "source": [
    "soup = BeautifulSoup(html, \"html.parser\")"
   ]
  },
  {
   "cell_type": "code",
   "execution_count": 9,
   "metadata": {},
   "outputs": [
    {
     "data": {
      "text/plain": [
       "<i>Localização: Receitas &gt; Bolos &gt; Bolo de Chocolate</i>"
      ]
     },
     "execution_count": 9,
     "metadata": {},
     "output_type": "execute_result"
    }
   ],
   "source": [
    "soup.h1\n",
    "soup.p\n",
    "soup.span\n",
    "soup.title\n",
    "soup.body.div.div.p.i # Só obtem o primeiro elemento da busca"
   ]
  },
  {
   "cell_type": "code",
   "execution_count": null,
   "metadata": {},
   "outputs": [],
   "source": []
  },
  {
   "cell_type": "markdown",
   "metadata": {},
   "source": [
    "## Obtendo todos os filhos diretos"
   ]
  },
  {
   "cell_type": "code",
   "execution_count": 12,
   "metadata": {},
   "outputs": [
    {
     "data": {
      "text/plain": [
       "['\\n',\n",
       " <li data-category=\"Chocolate\" style=\"display: inline-block;margin-right: 10px;\">Chocolate</li>,\n",
       " '\\n',\n",
       " <li data-category=\"Bolos\" style=\"display: inline-block;margin-right: 10px;\">Bolos</li>,\n",
       " '\\n',\n",
       " <li data-category=\"Sobremesas\" style=\"display: inline-block;margin-right: 10px;\">Sobremesas</li>,\n",
       " '\\n']"
      ]
     },
     "execution_count": 12,
     "metadata": {},
     "output_type": "execute_result"
    }
   ],
   "source": [
    "soup.ul.contents"
   ]
  },
  {
   "cell_type": "code",
   "execution_count": 14,
   "metadata": {},
   "outputs": [
    {
     "data": {
      "text/plain": [
       "['\\n',\n",
       " <p><i>Localização: Receitas &gt; Bolos &gt; Bolo de Chocolate</i></p>,\n",
       " '\\n']"
      ]
     },
     "execution_count": 14,
     "metadata": {},
     "output_type": "execute_result"
    }
   ],
   "source": [
    "soup.body.div.div.contents"
   ]
  },
  {
   "cell_type": "code",
   "execution_count": 17,
   "metadata": {},
   "outputs": [
    {
     "name": "stdout",
     "output_type": "stream",
     "text": [
      "\n",
      "\n",
      "<li data-category=\"Chocolate\" style=\"display: inline-block;margin-right: 10px;\">Chocolate</li>\n",
      "\n",
      "\n",
      "<li data-category=\"Bolos\" style=\"display: inline-block;margin-right: 10px;\">Bolos</li>\n",
      "\n",
      "\n",
      "<li data-category=\"Sobremesas\" style=\"display: inline-block;margin-right: 10px;\">Sobremesas</li>\n",
      "\n",
      "\n"
     ]
    }
   ],
   "source": [
    "list(soup.ul.children)\n"
   ]
  },
  {
   "cell_type": "code",
   "execution_count": 18,
   "metadata": {},
   "outputs": [
    {
     "name": "stdout",
     "output_type": "stream",
     "text": [
      "\n",
      "\n",
      "<li data-category=\"Chocolate\" style=\"display: inline-block;margin-right: 10px;\">Chocolate</li>\n",
      "\n",
      "\n",
      "<li data-category=\"Bolos\" style=\"display: inline-block;margin-right: 10px;\">Bolos</li>\n",
      "\n",
      "\n",
      "<li data-category=\"Sobremesas\" style=\"display: inline-block;margin-right: 10px;\">Sobremesas</li>\n",
      "\n",
      "\n"
     ]
    }
   ],
   "source": [
    "for child in soup.ul.children:\n",
    "    print(child)"
   ]
  },
  {
   "cell_type": "code",
   "execution_count": 19,
   "metadata": {},
   "outputs": [
    {
     "name": "stdout",
     "output_type": "stream",
     "text": [
      "72.4 μs ± 23.4 μs per loop (mean ± std. dev. of 7 runs, 1,000 loops each)\n",
      "58.4 μs ± 6.16 μs per loop (mean ± std. dev. of 7 runs, 1,000 loops each)\n"
     ]
    }
   ],
   "source": [
    "# Validando Perfomance\n",
    "%timeit -n 1_000 [c for c in soup.ul.contents]\n",
    "%timeit -n 1_000 [c for c in soup.ul.children]"
   ]
  },
  {
   "cell_type": "code",
   "execution_count": null,
   "metadata": {},
   "outputs": [],
   "source": []
  },
  {
   "cell_type": "markdown",
   "metadata": {},
   "source": [
    "## Obtendo todos os filhos de uma ramificação - Descendants"
   ]
  },
  {
   "cell_type": "code",
   "execution_count": 20,
   "metadata": {},
   "outputs": [
    {
     "data": {
      "text/plain": [
       "['\\n',\n",
       " <p><i>Localização: Receitas &gt; Bolos &gt; Bolo de Chocolate</i></p>,\n",
       " '\\n']"
      ]
     },
     "execution_count": 20,
     "metadata": {},
     "output_type": "execute_result"
    }
   ],
   "source": [
    "list(soup.body.div.div.children)"
   ]
  },
  {
   "cell_type": "code",
   "execution_count": 21,
   "metadata": {},
   "outputs": [
    {
     "data": {
      "text/plain": [
       "['\\n',\n",
       " <p><i>Localização: Receitas &gt; Bolos &gt; Bolo de Chocolate</i></p>,\n",
       " <i>Localização: Receitas &gt; Bolos &gt; Bolo de Chocolate</i>,\n",
       " 'Localização: Receitas > Bolos > Bolo de Chocolate',\n",
       " '\\n']"
      ]
     },
     "execution_count": 21,
     "metadata": {},
     "output_type": "execute_result"
    }
   ],
   "source": [
    "list(soup.body.div.div.descendants)"
   ]
  },
  {
   "cell_type": "code",
   "execution_count": null,
   "metadata": {},
   "outputs": [],
   "source": []
  },
  {
   "cell_type": "code",
   "execution_count": null,
   "metadata": {},
   "outputs": [],
   "source": []
  },
  {
   "cell_type": "code",
   "execution_count": null,
   "metadata": {},
   "outputs": [],
   "source": []
  },
  {
   "cell_type": "code",
   "execution_count": null,
   "metadata": {},
   "outputs": [],
   "source": []
  },
  {
   "cell_type": "code",
   "execution_count": null,
   "metadata": {},
   "outputs": [],
   "source": []
  },
  {
   "cell_type": "code",
   "execution_count": null,
   "metadata": {},
   "outputs": [],
   "source": []
  },
  {
   "cell_type": "code",
   "execution_count": null,
   "metadata": {},
   "outputs": [],
   "source": []
  }
 ],
 "metadata": {
  "kernelspec": {
   "display_name": "base",
   "language": "python",
   "name": "python3"
  },
  "language_info": {
   "codemirror_mode": {
    "name": "ipython",
    "version": 3
   },
   "file_extension": ".py",
   "mimetype": "text/x-python",
   "name": "python",
   "nbconvert_exporter": "python",
   "pygments_lexer": "ipython3",
   "version": "3.12.4"
  }
 },
 "nbformat": 4,
 "nbformat_minor": 2
}
